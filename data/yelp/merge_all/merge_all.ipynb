{
 "cells": [
  {
   "cell_type": "code",
   "execution_count": 7,
   "metadata": {},
   "outputs": [],
   "source": [
    "import pickle\n",
    "import pandas as pd\n",
    "from itertools import chain"
   ]
  },
  {
   "cell_type": "code",
   "execution_count": 8,
   "metadata": {},
   "outputs": [],
   "source": [
    "list_file_name = ['test-answers.pkl','test-easy-answers.pkl'\n",
    "                  ,'test-hard-answers.pkl', 'test-queries.pkl'\n",
    "                  , 'train-answers.pkl', 'train-easy-answers.pkl',\n",
    "                 'train-hard-answers.pkl', 'train-queries.pkl',\n",
    "                 'valid-answers.pkl', 'valid-easy-answers.pkl', 'valid-hard-answers.pkl',\n",
    "                 'valid-queries.pkl']"
   ]
  },
  {
   "cell_type": "code",
   "execution_count": 9,
   "metadata": {},
   "outputs": [
    {
     "ename": "IndexError",
     "evalue": "list index out of range",
     "output_type": "error",
     "traceback": [
      "\u001b[1;31m---------------------------------------------------------------------------\u001b[0m",
      "\u001b[1;31mIndexError\u001b[0m                                Traceback (most recent call last)",
      "\u001b[1;32m~\\AppData\\Local\\Temp/ipykernel_16196/3195553648.py\u001b[0m in \u001b[0;36m<module>\u001b[1;34m\u001b[0m\n\u001b[0;32m      1\u001b[0m \u001b[1;32mfor\u001b[0m \u001b[0mi\u001b[0m \u001b[1;32min\u001b[0m \u001b[0mrange\u001b[0m\u001b[1;33m(\u001b[0m\u001b[1;36m0\u001b[0m\u001b[1;33m,\u001b[0m\u001b[1;36m13\u001b[0m\u001b[1;33m)\u001b[0m\u001b[1;33m:\u001b[0m\u001b[1;33m\u001b[0m\u001b[1;33m\u001b[0m\u001b[0m\n\u001b[1;32m----> 2\u001b[1;33m     \u001b[0mfile_name\u001b[0m \u001b[1;33m=\u001b[0m \u001b[0mlist_file_name\u001b[0m\u001b[1;33m[\u001b[0m\u001b[0mi\u001b[0m\u001b[1;33m]\u001b[0m\u001b[1;33m\u001b[0m\u001b[1;33m\u001b[0m\u001b[0m\n\u001b[0m\u001b[0;32m      3\u001b[0m     \u001b[0mfile1\u001b[0m \u001b[1;33m=\u001b[0m \u001b[1;34m'0/{0}'\u001b[0m\u001b[1;33m.\u001b[0m\u001b[0mformat\u001b[0m\u001b[1;33m(\u001b[0m\u001b[0mfile_name\u001b[0m\u001b[1;33m)\u001b[0m\u001b[1;33m\u001b[0m\u001b[1;33m\u001b[0m\u001b[0m\n\u001b[0;32m      4\u001b[0m     \u001b[0mfile2\u001b[0m \u001b[1;33m=\u001b[0m \u001b[1;34m'1/{0}'\u001b[0m\u001b[1;33m.\u001b[0m\u001b[0mformat\u001b[0m\u001b[1;33m(\u001b[0m\u001b[0mfile_name\u001b[0m\u001b[1;33m)\u001b[0m\u001b[1;33m\u001b[0m\u001b[1;33m\u001b[0m\u001b[0m\n\u001b[0;32m      5\u001b[0m     \u001b[0mfile3\u001b[0m \u001b[1;33m=\u001b[0m \u001b[1;34m'2/{0}'\u001b[0m\u001b[1;33m.\u001b[0m\u001b[0mformat\u001b[0m\u001b[1;33m(\u001b[0m\u001b[0mfile_name\u001b[0m\u001b[1;33m)\u001b[0m\u001b[1;33m\u001b[0m\u001b[1;33m\u001b[0m\u001b[0m\n",
      "\u001b[1;31mIndexError\u001b[0m: list index out of range"
     ]
    }
   ],
   "source": [
    "for i in range(0,13):\n",
    "    file_name = list_file_name[i]\n",
    "    file1 = '0/{0}'.format(file_name)\n",
    "    file2 = '1/{0}'.format(file_name)\n",
    "    file3 = '2/{0}'.format(file_name)\n",
    "    file4 = '3/{0}'.format(file_name)\n",
    "    file5 = '4/{0}'.format(file_name)\n",
    "    file6 = '5/{0}'.format(file_name)\n",
    "    file7 = '6/{0}'.format(file_name)\n",
    "    file8 = '12/{0}'.format(file_name)\n",
    "    file9 = '13/{0}'.format(file_name)\n",
    "\n",
    "    data1 = pd.read_pickle(file1)\n",
    "    data2 = pd.read_pickle(file2)\n",
    "    data3 = pd.read_pickle(file3)\n",
    "    data4 = pd.read_pickle(file4)\n",
    "    data5 = pd.read_pickle(file5)\n",
    "    data6 = pd.read_pickle(file6)\n",
    "    data7 = pd.read_pickle(file7)\n",
    "    data8 = pd.read_pickle(file8)\n",
    "    data9 = pd.read_pickle(file9)\n",
    "\n",
    "    for k, v in chain(data2.items(), data3.items(),data4.items(), data5.items(), data6.items(), data7.items(),data8.items(), data9.items()):\n",
    "        data1[k] = v\n",
    "\n",
    "    with open(file_name, 'wb') as handle:\n",
    "        pickle.dump(data1, handle, protocol=pickle.HIGHEST_PROTOCOL)"
   ]
  },
  {
   "cell_type": "code",
   "execution_count": 59,
   "metadata": {},
   "outputs": [],
   "source": []
  },
  {
   "cell_type": "code",
   "execution_count": 60,
   "metadata": {},
   "outputs": [],
   "source": []
  },
  {
   "cell_type": "code",
   "execution_count": 61,
   "metadata": {},
   "outputs": [],
   "source": []
  },
  {
   "cell_type": "code",
   "execution_count": 51,
   "metadata": {},
   "outputs": [
    {
     "data": {
      "text/plain": [
       "{325, 1242, 1813, 3092, 3465, 4028, 5752, 6860}"
      ]
     },
     "execution_count": 51,
     "metadata": {},
     "output_type": "execute_result"
    }
   ],
   "source": [
    "data1[(183, (15, 12))]"
   ]
  },
  {
   "cell_type": "code",
   "execution_count": 54,
   "metadata": {},
   "outputs": [
    {
     "data": {
      "text/plain": [
       "35544"
      ]
     },
     "execution_count": 54,
     "metadata": {},
     "output_type": "execute_result"
    }
   ],
   "source": [
    "len(data1)"
   ]
  }
 ],
 "metadata": {
  "kernelspec": {
   "display_name": "Python 3",
   "language": "python",
   "name": "python3"
  },
  "language_info": {
   "codemirror_mode": {
    "name": "ipython",
    "version": 3
   },
   "file_extension": ".py",
   "mimetype": "text/x-python",
   "name": "python",
   "nbconvert_exporter": "python",
   "pygments_lexer": "ipython3",
   "version": "3.8.6"
  }
 },
 "nbformat": 4,
 "nbformat_minor": 4
}
